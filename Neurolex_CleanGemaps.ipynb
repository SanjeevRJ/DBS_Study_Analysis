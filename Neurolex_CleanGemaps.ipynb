{
 "cells": [
  {
   "cell_type": "markdown",
   "metadata": {},
   "source": [
    "# Gemaps Data Analysis\n",
    "\n",
    "6/27/19\n",
    "\n",
    "Diagnostics for Parkinson's\n",
    "\n",
    "Warning: drop the `name` column upon feature extraction, it's somewhere in the middle of the csv.  For simplicity I just found it in the excel and deleted it since it was an exact replica of the [0] label column."
   ]
  },
  {
   "cell_type": "code",
   "execution_count": 2,
   "metadata": {},
   "outputs": [],
   "source": [
    "import numpy as np\n",
    "import pandas as pd\n",
    "import seaborn as sns\n",
    "import matplotlib.pyplot as plt\n",
    "import json, sys, regex\n",
    "from scipy import stats"
   ]
  },
  {
   "cell_type": "markdown",
   "metadata": {},
   "source": [
    "# Motor Data\n",
    "\n",
    "Original data from patients, taken by Huy. These are the Unified Parkinson Disease Rating Scale (UPDRS III motor score) results to which the feauture extraction data were compared. P value shows insignificant change between groups based off scipy library `ttest` function but hand calculation by Huy seemed to work."
   ]
  },
  {
   "cell_type": "code",
   "execution_count": 3,
   "metadata": {},
   "outputs": [
    {
     "data": {
      "text/plain": [
       "Ttest_indResult(statistic=1.535735113080723, pvalue=0.16315374349509684)"
      ]
     },
     "execution_count": 3,
     "metadata": {},
     "output_type": "execute_result"
    },
    {
     "data": {
      "image/png": "[encoded data removed]",
      "text/plain": [
       "<Figure size 432x432 with 1 Axes>"
      ]
     },
     "metadata": {
      "needs_background": "light"
     },
     "output_type": "display_data"
    }
   ],
   "source": [
    "fig, axes = plt.subplots(figsize=(6,6)) # plot, enlarge\n",
    "\n",
    "\n",
    "motor = pd.read_csv('Output_Folder/Motor/motor_use.csv')\n",
    "my_pal = {\"DBS off\": \"tomato\", \"DBS on\": \"palegreen\"}\n",
    "sns.boxplot(data=motor, order=[\"DBS off\", \"DBS on\"], palette=my_pal).set_title('UPDRS Part III Score')\n",
    "\n",
    "a = motor.iloc[:,0]\n",
    "b = motor.iloc[:,1]\n",
    "f = stats.ttest_ind(a,b)\n",
    "    \n",
    "f"
   ]
  },
  {
   "cell_type": "markdown",
   "metadata": {},
   "source": [
    "Below are data for each of the five patients that were analyzed and assessed for motor scores by Huy. A clear reduction in patient motor school is observed when the DBS is turned on.  Huy preferred the above graph, but I wanted to visualize each patient's data separately for my own sanity."
   ]
  },
  {
   "cell_type": "code",
   "execution_count": 28,
   "metadata": {},
   "outputs": [
    {
     "data": {
      "text/plain": [
       "Text(0.5, 1.0, 'UPDRS scores per patient')"
      ]
     },
     "execution_count": 28,
     "metadata": {},
     "output_type": "execute_result"
    },
    {
     "data": {
      "image/png": "[encoded data removed]",
      "text/plain": [
       "<Figure size 432x288 with 1 Axes>"
      ]
     },
     "metadata": {
      "needs_background": "light"
     },
     "output_type": "display_data"
    }
   ],
   "source": [
    "fig, ax = plt.subplots()\n",
    "motor.plot.bar(ax=ax).set_title('UPDRS scores per patient') #stacked=True when Huy made his original data."
   ]
  },
  {
   "cell_type": "markdown",
   "metadata": {},
   "source": [
    "# Gemap Load"
   ]
  },
  {
   "cell_type": "code",
   "execution_count": 5,
   "metadata": {},
   "outputs": [
    {
     "data": {
      "text/html": [
       "<div>\n",
       "<style scoped>\n",
       "    .dataframe tbody tr th:only-of-type {\n",
       "        vertical-align: middle;\n",
       "    }\n",
       "\n",
       "    .dataframe tbody tr th {\n",
       "        vertical-align: top;\n",
       "    }\n",
       "\n",
       "    .dataframe thead th {\n",
       "        text-align: right;\n",
       "    }\n",
       "</style>\n",
       "<table border=\"1\" class=\"dataframe\">\n",
       "  <thead>\n",
       "    <tr style=\"text-align: right;\">\n",
       "      <th></th>\n",
       "      <th>Unnamed: 0</th>\n",
       "      <th>AudioFile</th>\n",
       "      <th>F0semitone27.5Hz_sma3nz_amean</th>\n",
       "      <th>F0semitone27.5Hz_sma3nz_meanFallingSlope</th>\n",
       "      <th>F0semitone27.5Hz_sma3nz_meanRisingSlope</th>\n",
       "      <th>F0semitone27.5Hz_sma3nz_pctlrange0-2</th>\n",
       "      <th>F0semitone27.5Hz_sma3nz_percentile20.0</th>\n",
       "      <th>F0semitone27.5Hz_sma3nz_percentile50.0</th>\n",
       "      <th>F0semitone27.5Hz_sma3nz_percentile80.0</th>\n",
       "      <th>F0semitone27.5Hz_sma3nz_stddevFallingSlope</th>\n",
       "      <th>...</th>\n",
       "      <th>slopeUV500-1500_sma3nz_amean</th>\n",
       "      <th>slopeV0-500_sma3nz_amean</th>\n",
       "      <th>slopeV0-500_sma3nz_stddevNorm</th>\n",
       "      <th>slopeV500-1500_sma3nz_amean</th>\n",
       "      <th>slopeV500-1500_sma3nz_stddevNorm</th>\n",
       "      <th>spectralFluxUV_sma3nz_amean</th>\n",
       "      <th>spectralFluxV_sma3nz_amean</th>\n",
       "      <th>spectralFluxV_sma3nz_stddevNorm</th>\n",
       "      <th>spectralFlux_sma3_amean</th>\n",
       "      <th>spectralFlux_sma3_stddevNorm</th>\n",
       "    </tr>\n",
       "  </thead>\n",
       "  <tbody>\n",
       "    <tr>\n",
       "      <th>0</th>\n",
       "      <td>0</td>\n",
       "      <td>10_ahh_off.wav</td>\n",
       "      <td>26.1</td>\n",
       "      <td>5.86</td>\n",
       "      <td>7.1</td>\n",
       "      <td>0.459</td>\n",
       "      <td>25.9</td>\n",
       "      <td>26.1</td>\n",
       "      <td>26.3</td>\n",
       "      <td>3.77</td>\n",
       "      <td>...</td>\n",
       "      <td>0.00000</td>\n",
       "      <td>-0.00404</td>\n",
       "      <td>-3.62</td>\n",
       "      <td>-0.00596</td>\n",
       "      <td>-0.758</td>\n",
       "      <td>0.000</td>\n",
       "      <td>0.629</td>\n",
       "      <td>0.348</td>\n",
       "      <td>0.627</td>\n",
       "      <td>0.350</td>\n",
       "    </tr>\n",
       "    <tr>\n",
       "      <th>1</th>\n",
       "      <td>1</td>\n",
       "      <td>10_ahh_on.wav</td>\n",
       "      <td>25.0</td>\n",
       "      <td>1.82</td>\n",
       "      <td>51.2</td>\n",
       "      <td>0.194</td>\n",
       "      <td>25.1</td>\n",
       "      <td>25.2</td>\n",
       "      <td>25.3</td>\n",
       "      <td>0.00</td>\n",
       "      <td>...</td>\n",
       "      <td>-0.00292</td>\n",
       "      <td>-0.01340</td>\n",
       "      <td>-1.16</td>\n",
       "      <td>-0.00733</td>\n",
       "      <td>-1.260</td>\n",
       "      <td>0.129</td>\n",
       "      <td>0.356</td>\n",
       "      <td>0.370</td>\n",
       "      <td>0.352</td>\n",
       "      <td>0.378</td>\n",
       "    </tr>\n",
       "    <tr>\n",
       "      <th>2</th>\n",
       "      <td>2</td>\n",
       "      <td>10_animal_off.wav</td>\n",
       "      <td>20.2</td>\n",
       "      <td>107.00</td>\n",
       "      <td>240.0</td>\n",
       "      <td>12.700</td>\n",
       "      <td>13.7</td>\n",
       "      <td>22.0</td>\n",
       "      <td>26.4</td>\n",
       "      <td>155.00</td>\n",
       "      <td>...</td>\n",
       "      <td>-0.00678</td>\n",
       "      <td>-0.02820</td>\n",
       "      <td>-1.28</td>\n",
       "      <td>-0.01490</td>\n",
       "      <td>-0.927</td>\n",
       "      <td>0.212</td>\n",
       "      <td>0.478</td>\n",
       "      <td>0.885</td>\n",
       "      <td>0.373</td>\n",
       "      <td>1.010</td>\n",
       "    </tr>\n",
       "    <tr>\n",
       "      <th>3</th>\n",
       "      <td>3</td>\n",
       "      <td>10_animal_on.wav</td>\n",
       "      <td>19.2</td>\n",
       "      <td>100.00</td>\n",
       "      <td>195.0</td>\n",
       "      <td>12.000</td>\n",
       "      <td>13.5</td>\n",
       "      <td>16.2</td>\n",
       "      <td>25.5</td>\n",
       "      <td>140.00</td>\n",
       "      <td>...</td>\n",
       "      <td>-0.00581</td>\n",
       "      <td>-0.03220</td>\n",
       "      <td>-1.22</td>\n",
       "      <td>-0.01310</td>\n",
       "      <td>-0.900</td>\n",
       "      <td>0.179</td>\n",
       "      <td>0.371</td>\n",
       "      <td>0.915</td>\n",
       "      <td>0.292</td>\n",
       "      <td>0.986</td>\n",
       "    </tr>\n",
       "    <tr>\n",
       "      <th>4</th>\n",
       "      <td>4</td>\n",
       "      <td>10_counting_off.wav</td>\n",
       "      <td>26.6</td>\n",
       "      <td>81.20</td>\n",
       "      <td>800.0</td>\n",
       "      <td>2.590</td>\n",
       "      <td>25.9</td>\n",
       "      <td>27.2</td>\n",
       "      <td>28.5</td>\n",
       "      <td>90.70</td>\n",
       "      <td>...</td>\n",
       "      <td>-0.00485</td>\n",
       "      <td>0.00077</td>\n",
       "      <td>40.70</td>\n",
       "      <td>-0.01680</td>\n",
       "      <td>-0.779</td>\n",
       "      <td>0.481</td>\n",
       "      <td>0.634</td>\n",
       "      <td>0.534</td>\n",
       "      <td>0.592</td>\n",
       "      <td>0.579</td>\n",
       "    </tr>\n",
       "  </tbody>\n",
       "</table>\n",
       "<p>5 rows × 90 columns</p>\n",
       "</div>"
      ],
      "text/plain": [
       "   Unnamed: 0            AudioFile  F0semitone27.5Hz_sma3nz_amean  \\\n",
       "0           0       10_ahh_off.wav                           26.1   \n",
       "1           1        10_ahh_on.wav                           25.0   \n",
       "2           2    10_animal_off.wav                           20.2   \n",
       "3           3     10_animal_on.wav                           19.2   \n",
       "4           4  10_counting_off.wav                           26.6   \n",
       "\n",
       "   F0semitone27.5Hz_sma3nz_meanFallingSlope  \\\n",
       "0                                      5.86   \n",
       "1                                      1.82   \n",
       "2                                    107.00   \n",
       "3                                    100.00   \n",
       "4                                     81.20   \n",
       "\n",
       "   F0semitone27.5Hz_sma3nz_meanRisingSlope  \\\n",
       "0                                      7.1   \n",
       "1                                     51.2   \n",
       "2                                    240.0   \n",
       "3                                    195.0   \n",
       "4                                    800.0   \n",
       "\n",
       "   F0semitone27.5Hz_sma3nz_pctlrange0-2  \\\n",
       "0                                 0.459   \n",
       "1                                 0.194   \n",
       "2                                12.700   \n",
       "3                                12.000   \n",
       "4                                 2.590   \n",
       "\n",
       "   F0semitone27.5Hz_sma3nz_percentile20.0  \\\n",
       "0                                    25.9   \n",
       "1                                    25.1   \n",
       "2                                    13.7   \n",
       "3                                    13.5   \n",
       "4                                    25.9   \n",
       "\n",
       "   F0semitone27.5Hz_sma3nz_percentile50.0  \\\n",
       "0                                    26.1   \n",
       "1                                    25.2   \n",
       "2                                    22.0   \n",
       "3                                    16.2   \n",
       "4                                    27.2   \n",
       "\n",
       "   F0semitone27.5Hz_sma3nz_percentile80.0  \\\n",
       "0                                    26.3   \n",
       "1                                    25.3   \n",
       "2                                    26.4   \n",
       "3                                    25.5   \n",
       "4                                    28.5   \n",
       "\n",
       "   F0semitone27.5Hz_sma3nz_stddevFallingSlope              ...               \\\n",
       "0                                        3.77              ...                \n",
       "1                                        0.00              ...                \n",
       "2                                      155.00              ...                \n",
       "3                                      140.00              ...                \n",
       "4                                       90.70              ...                \n",
       "\n",
       "   slopeUV500-1500_sma3nz_amean  slopeV0-500_sma3nz_amean  \\\n",
       "0                       0.00000                  -0.00404   \n",
       "1                      -0.00292                  -0.01340   \n",
       "2                      -0.00678                  -0.02820   \n",
       "3                      -0.00581                  -0.03220   \n",
       "4                      -0.00485                   0.00077   \n",
       "\n",
       "   slopeV0-500_sma3nz_stddevNorm  slopeV500-1500_sma3nz_amean  \\\n",
       "0                          -3.62                     -0.00596   \n",
       "1                          -1.16                     -0.00733   \n",
       "2                          -1.28                     -0.01490   \n",
       "3                          -1.22                     -0.01310   \n",
       "4                          40.70                     -0.01680   \n",
       "\n",
       "   slopeV500-1500_sma3nz_stddevNorm  spectralFluxUV_sma3nz_amean  \\\n",
       "0                            -0.758                        0.000   \n",
       "1                            -1.260                        0.129   \n",
       "2                            -0.927                        0.212   \n",
       "3                            -0.900                        0.179   \n",
       "4                            -0.779                        0.481   \n",
       "\n",
       "   spectralFluxV_sma3nz_amean  spectralFluxV_sma3nz_stddevNorm  \\\n",
       "0                       0.629                            0.348   \n",
       "1                       0.356                            0.370   \n",
       "2                       0.478                            0.885   \n",
       "3                       0.371                            0.915   \n",
       "4                       0.634                            0.534   \n",
       "\n",
       "   spectralFlux_sma3_amean  spectralFlux_sma3_stddevNorm  \n",
       "0                    0.627                         0.350  \n",
       "1                    0.352                         0.378  \n",
       "2                    0.373                         1.010  \n",
       "3                    0.292                         0.986  \n",
       "4                    0.592                         0.579  \n",
       "\n",
       "[5 rows x 90 columns]"
      ]
     },
     "execution_count": 5,
     "metadata": {},
     "output_type": "execute_result"
    }
   ],
   "source": [
    "data = pd.read_csv('Output_Folder/Gemaps/Gemaps_features.csv')\n",
    "names = list(data.columns)\n",
    "data.head()"
   ]
  },
  {
   "cell_type": "markdown",
   "metadata": {},
   "source": [
    "# Split Exp and Ctrl\n",
    "\n",
    "Split into DBS_on experimental and DBS_off control.  Allows chisq testing and pipeline implementation.  Also was conducive to our simpler t-test analysis later."
   ]
  },
  {
   "cell_type": "code",
   "execution_count": 8,
   "metadata": {},
   "outputs": [],
   "source": [
    "#split by pd index\n",
    "off_data = data[::2]\n",
    "on_data = data[1::2]\n",
    "\n",
    "#generate json files for the select_features.py file\n",
    "off_data = off_data.drop(['AudioFile', 'Unnamed: 0'], 1)\n",
    "on_data = on_data.drop(['AudioFile', 'Unnamed: 0'], 1) "
   ]
  },
  {
   "cell_type": "markdown",
   "metadata": {},
   "source": [
    "# Prep Chi Sq\n",
    "\n",
    "This is just straight from the pipeline provided in the voicebook with a few tweaks.  This was not necessary to produce for the data presented at the symposium, but is provided here as a reference for the modified code that works in notebook form."
   ]
  },
  {
   "cell_type": "code",
   "execution_count": 9,
   "metadata": {},
   "outputs": [],
   "source": [
    "X=np.array(on_data)\n",
    "Y=np.array(off_data)\n",
    "training=list()\n",
    "for i in range(len(X)):\n",
    "    training.append(X[i])\n",
    "for i in range(len(Y)):\n",
    "    training.append(Y[i])\n",
    "\n",
    "# get labels (as binary class outputs)\n",
    "labels=list()\n",
    "for i in range(len(X)):\n",
    "    labels.append(1)\n",
    "for i in range(len(Y)):\n",
    "    labels.append(0) "
   ]
  },
  {
   "cell_type": "markdown",
   "metadata": {},
   "source": [
    "# Chi Sq from VoiceBook\n",
    "\n",
    "Straight from `select_features.py` from the Voicebook.  Also unnecessary for the symposium data, and is just provided as a commented/tweaked reference guide for future study."
   ]
  },
  {
   "cell_type": "code",
   "execution_count": 10,
   "metadata": {},
   "outputs": [],
   "source": [
    "from sklearn import preprocessing\n",
    "from sklearn.feature_selection import SelectKBest, chi2\n",
    "from sklearn.model_selection import train_test_split\n",
    "\n",
    "X_train, X_test, y_train, y_test = train_test_split(training, labels, test_size=0.20, random_state=42)\n",
    "X_train=np.array(X_train)\n",
    "X_test=np.array(X_test)\n",
    "y_train=np.array(y_train).astype(int)\n",
    "y_test=np.array(y_test).astype(int)\n",
    "\n",
    "# normalize features so they are non-negative [0,1], or chi squared test will fail\n",
    "# it assumes all values are positive \n",
    "min_max_scaler = preprocessing.MinMaxScaler()\n",
    "chi_train = min_max_scaler.fit_transform(X_train)\n",
    "chi_labels = y_train \n",
    "\n",
    "# Select 50 features with highest chi-squared statistics\n",
    "chi2_selector = SelectKBest(chi2, k=50)\n",
    "X_kbest = chi2_selector.fit_transform(chi_train, chi_labels)"
   ]
  },
  {
   "cell_type": "markdown",
   "metadata": {},
   "source": [
    "# Recursive Feature Elimination, Voicebook\n",
    "\n",
    "Recursive feature elmination works by recursively removing \n",
    "attributes and building a model on attributes that remain. \n",
    "It uses model accuracy to identify which attributes\n",
    "(and combinations of attributes) contribute the most to predicting the\n",
    "target attribute. You can learn more about the RFE class in\n",
    "the scikit-learn documentation.  This finds the top 25 features according \n",
    "to the Gemaps algorithm.\n",
    "\n",
    "May be desirable to surpress warning for running in Jupyter.\n",
    "\n",
    "Recursive feature elmination was supposed to identity features that might work well with the properties of the data set.  However, scanning the p values from the t-test results showed that most of the features were meaningless at the scale of our sample size."
   ]
  },
  {
   "cell_type": "code",
   "execution_count": 32,
   "metadata": {},
   "outputs": [
    {
     "name": "stdout",
     "output_type": "stream",
     "text": [
      "Num Features: 25\n",
      "Selected Features: [ True  True False False False  True  True  True False False  True False\n",
      " False False False False False  True False False False False  True False\n",
      " False False False False False  True False  True False False False False\n",
      "  True  True  True False  True False False False False False  True  True\n",
      " False False  True False False False False False False False False False\n",
      " False False  True False  True False  True  True  True False False  True\n",
      "  True False False False False False False False  True False False False\n",
      " False False False False]\n",
      "Feature Ranking: [ 1  1 41 23 51  1  1  1 56 26  1 32  7 61  4 54 11  1 13 52  8 57  1 37\n",
      " 49 50 17 63 25  1 48  1 18 46 36 19  1  1  1 33  1 21 58 34  2 22  1  1\n",
      " 20 38  1  9 28 29 35 47 12 27  6  5 45  3  1 10  1 39  1  1  1 24 15  1\n",
      "  1 14 16 31 44 53 59 55  1 62 40 42 64 43 60 30]\n"
     ]
    }
   ],
   "source": [
    "from sklearn.linear_model import LogisticRegression\n",
    "from sklearn.feature_selection import RFE\n",
    "from sklearn.svm import SVR\n",
    "\n",
    "import warnings\n",
    "warnings.filterwarnings(\"ignore\")\n",
    "\n",
    "# Top 25 features\n",
    "model = LogisticRegression() \n",
    "rfe = RFE(model, 25)\n",
    "fit = rfe.fit(X_train, y_train)\n",
    "\n",
    "# list out number of features and selected features \n",
    "print(\"Num Features: %d\"% fit.n_features_) \n",
    "print(\"Selected Features: %s\"% fit.support_) \n",
    "print(\"Feature Ranking: %s\"% fit.ranking_)"
   ]
  },
  {
   "cell_type": "markdown",
   "metadata": {},
   "source": [
    "The following scripts are designed to display all of the features and their associated t stat and p-values."
   ]
  },
  {
   "cell_type": "code",
   "execution_count": 29,
   "metadata": {},
   "outputs": [],
   "source": [
    "fit.support_.size\n",
    "indx = np.where(fit.support_==True)\n",
    "indx = np.array(indx)\n",
    "# indx.flatten()\n",
    "\n",
    "# apparently a bug in np req np.frombuffer to get 1D array. otherwise the for loop below doesn't work.\n",
    "indx = np.frombuffer(indx,dtype=int)\n",
    "indx = indx[::2]"
   ]
  },
  {
   "cell_type": "code",
   "execution_count": 30,
   "metadata": {},
   "outputs": [],
   "source": [
    "features = [names[i+1] for i in indx]\n",
    "#features  #supposedly selected features"
   ]
  },
  {
   "cell_type": "code",
   "execution_count": 33,
   "metadata": {},
   "outputs": [
    {
     "data": {
      "text/plain": [
       "{'F0semitone27.5Hz amean': Ttest_indResult(statistic=0.3281530830678242, pvalue=0.7442231323611543),\n",
       " 'F0semitone27.5Hz meanFallingSlope': Ttest_indResult(statistic=-0.36538509762723953, pvalue=0.7164291890853429),\n",
       " 'F0semitone27.5Hz meanRisingSlope': Ttest_indResult(statistic=2.0848785046711233, pvalue=0.04242338194063342),\n",
       " 'F0semitone27.5Hz pctlrange0-2': Ttest_indResult(statistic=0.1612431397377509, pvalue=0.8725786723791664),\n",
       " 'F0semitone27.5Hz percentile20.0': Ttest_indResult(statistic=0.6123336279222946, pvalue=0.5432071117966031),\n",
       " 'F0semitone27.5Hz percentile50.0': Ttest_indResult(statistic=-0.045891042398669445, pvalue=0.9635874906327186),\n",
       " 'F0semitone27.5Hz percentile80.0': Ttest_indResult(statistic=0.6555735818832908, pvalue=0.5152285335795546),\n",
       " 'F0semitone27.5Hz std FallingSlope': Ttest_indResult(statistic=-1.2182668065966749, pvalue=0.2290769429017865),\n",
       " 'F0semitone27.5Hz std Norm': Ttest_indResult(statistic=0.2062626294776831, pvalue=0.8374581755975045),\n",
       " 'F0semitone27.5Hz std RisingSlope': Ttest_indResult(statistic=2.4008847013161074, pvalue=0.020279192744499103),\n",
       " 'F1amplitudeLogRelF0 amean': Ttest_indResult(statistic=0.32754410080003726, pvalue=0.7446807294960051),\n",
       " 'F1amplitudeLogRelF0 std Norm': Ttest_indResult(statistic=0.5618408982268367, pvalue=0.576838644490945),\n",
       " 'F1bandwidth amean': Ttest_indResult(statistic=-0.5326389535061978, pvalue=0.5967408577265607),\n",
       " 'F1bandwidth std Norm': Ttest_indResult(statistic=-0.24047669996252743, pvalue=0.8109848655603693),\n",
       " 'F1frequency amean': Ttest_indResult(statistic=0.09098962736750496, pvalue=0.9278794897820638),\n",
       " 'F1frequency std Norm': Ttest_indResult(statistic=-0.628462239906913, pvalue=0.532680396235666),\n",
       " 'F2amplitudeLogRelF0 amean': Ttest_indResult(statistic=0.34306811611270266, pvalue=0.7330452297864727),\n",
       " 'F2amplitudeLogRelF0 std Norm': Ttest_indResult(statistic=-0.8180268704567369, pvalue=0.41738426640245396),\n",
       " 'F2bandwidth amean': Ttest_indResult(statistic=-1.2595441101456901, pvalue=0.21392410999052852),\n",
       " 'F2bandwidth std Norm': Ttest_indResult(statistic=0.10157072850578665, pvalue=0.9195205263009432),\n",
       " 'F2frequency amean': Ttest_indResult(statistic=0.1852666129178904, pvalue=0.8538005624761476),\n",
       " 'F2frequency std Norm': Ttest_indResult(statistic=-0.5225333831728698, pvalue=0.6037025441523756),\n",
       " 'F3amplitudeLogRelF0 amean': Ttest_indResult(statistic=0.3728906507223958, pvalue=0.7108714602011591),\n",
       " 'F3amplitudeLogRelF0 std Norm': Ttest_indResult(statistic=0.0866489065365759, pvalue=0.9313110466121021),\n",
       " 'F3bandwidth amean': Ttest_indResult(statistic=-0.597186741385096, pvalue=0.5531894780602503),\n",
       " 'F3bandwidth std Norm': Ttest_indResult(statistic=0.47983189668551146, pvalue=0.6335262484984403),\n",
       " 'F3frequency amean': Ttest_indResult(statistic=0.38286313425588436, pvalue=0.7035115180126758),\n",
       " 'F3frequency std Norm': Ttest_indResult(statistic=0.03396336075840825, pvalue=0.9730472112860794),\n",
       " 'HNRdBACF amean': Ttest_indResult(statistic=0.14361374257552584, pvalue=0.8864067237163755),\n",
       " 'HNRdBACF std Norm': Ttest_indResult(statistic=0.50623202974041, pvalue=0.6150111120677018),\n",
       " 'MeanUnvoicedSegmentLength': Ttest_indResult(statistic=-0.8408048002475417, pvalue=0.40462640285379436),\n",
       " 'MeanVoicedSegmentLengthSec': Ttest_indResult(statistic=0.11703671736722963, pvalue=0.9073192977220996),\n",
       " 'StddevUnvoicedSegmentLength': Ttest_indResult(statistic=-0.3279460833336785, pvalue=0.7443786641922145),\n",
       " 'StddevVoicedSegmentLengthSec': Ttest_indResult(statistic=-1.3703243045753883, pvalue=0.17696084593056693),\n",
       " 'VoicedSegmentsPerSec': Ttest_indResult(statistic=0.49440883915546296, pvalue=0.62327275503734),\n",
       " 'alphaRatioUV amean': Ttest_indResult(statistic=0.6016997072611864, pvalue=0.5502055854763781),\n",
       " 'alphaRatioV amean': Ttest_indResult(statistic=0.5839842385937151, pvalue=0.561965448092195),\n",
       " 'alphaRatioV std Norm': Ttest_indResult(statistic=-1.3177572601167247, pvalue=0.19383989469606855),\n",
       " 'equivalentSoundLevel_dBp': Ttest_indResult(statistic=-0.04240865196483718, pvalue=0.9663488532271574),\n",
       " 'hammarbergIndexUV amean': Ttest_indResult(statistic=-0.5872612495384303, pvalue=0.5597806900985128),\n",
       " 'hammarbergIndexV amean': Ttest_indResult(statistic=-0.5501705026416601, pvalue=0.5847537000127847),\n",
       " 'hammarbergIndexV std Norm': Ttest_indResult(statistic=0.9348571694926513, pvalue=0.3545413713074339),\n",
       " 'jitterLocal amean': Ttest_indResult(statistic=-0.01656687322516306, pvalue=0.9868508238341521),\n",
       " 'jitterLocal std Norm': Ttest_indResult(statistic=1.3970572084645416, pvalue=0.1688218513161402),\n",
       " 'logRelF0-H1-A3 amean': Ttest_indResult(statistic=-0.5609217113928617, pvalue=0.5774601585587376),\n",
       " 'logRelF0-H1-A3 std Norm': Ttest_indResult(statistic=-0.4378737476652515, pvalue=0.6634419739090227),\n",
       " 'logRelF0-H1-H2 amean': Ttest_indResult(statistic=0.2729057638588595, pvalue=0.7860963690671626),\n",
       " 'logRelF0-H1-H2 std Norm': Ttest_indResult(statistic=0.7919436988519681, pvalue=0.43228996932961217),\n",
       " 'loudnessPeaksPerSec': Ttest_indResult(statistic=1.3781860442838545, pvalue=0.1745365766472965),\n",
       " 'loudness_sma3_amean': Ttest_indResult(statistic=0.37783442530046446, pvalue=0.7072193027277023),\n",
       " 'loudness_sma3_meanFallingSlope': Ttest_indResult(statistic=1.2609824029167078, pvalue=0.21340988537767727),\n",
       " 'loudness_sma3_meanRisingSlope': Ttest_indResult(statistic=0.7997791487471015, pvalue=0.4277791580163429),\n",
       " 'loudness_sma3_pctlrange0-2': Ttest_indResult(statistic=0.3435913601036332, pvalue=0.7326541323254703),\n",
       " 'loudness_sma3_percentile20.0': Ttest_indResult(statistic=0.2634609954850742, pvalue=0.7933230169613299),\n",
       " 'loudness_sma3_percentile50.0': Ttest_indResult(statistic=0.48736974856144233, pvalue=0.6282148510837744),\n",
       " 'loudness_sma3_percentile80.0': Ttest_indResult(statistic=0.409526309104492, pvalue=0.6839753124459895),\n",
       " 'loudness_sma3_std FallingSlope': Ttest_indResult(statistic=0.8311850704193083, pvalue=0.40998479537531196),\n",
       " 'loudness_sma3_std Norm': Ttest_indResult(statistic=-0.9115940454892103, pvalue=0.3665380976114989),\n",
       " 'loudness_sma3_std RisingSlope': Ttest_indResult(statistic=0.2755868356685083, pvalue=0.7840483804832883),\n",
       " 'mfcc1V amean': Ttest_indResult(statistic=-0.6483981925724004, pvalue=0.5198174358744755),\n",
       " 'mfcc1V std Norm': Ttest_indResult(statistic=0.5337730232208631, pvalue=0.5959619591592172),\n",
       " 'mfcc1_sma3_amean': Ttest_indResult(statistic=-0.46864407597434854, pvalue=0.6414455019096197),\n",
       " 'mfcc1_sma3_std Norm': Ttest_indResult(statistic=-0.376722615098221, pvalue=0.7080400380673701),\n",
       " 'mfcc2V amean': Ttest_indResult(statistic=-0.006379771138325462, pvalue=0.99493615543285),\n",
       " 'mfcc2V std Norm': Ttest_indResult(statistic=0.9032301326140585, pvalue=0.37091444860033895),\n",
       " 'mfcc2_sma3_amean': Ttest_indResult(statistic=-0.1776860614574481, pvalue=0.8597172701449813),\n",
       " 'mfcc2_sma3_std Norm': Ttest_indResult(statistic=-1.2598428670519115, pvalue=0.21381722134420178),\n",
       " 'mfcc3V amean': Ttest_indResult(statistic=-0.0747935111018615, pvalue=0.9406898503748747),\n",
       " 'mfcc3V std Norm': Ttest_indResult(statistic=-0.17693738403394216, pvalue=0.860302068395829),\n",
       " 'mfcc3_sma3_amean': Ttest_indResult(statistic=-0.008128448198982095, pvalue=0.9935481979383556),\n",
       " 'mfcc3_sma3_std Norm': Ttest_indResult(statistic=0.49148579884921917, pvalue=0.6253228945364573),\n",
       " 'mfcc4V amean': Ttest_indResult(statistic=-0.24502212966491668, pvalue=0.8074838148825798),\n",
       " 'mfcc4V std Norm': Ttest_indResult(statistic=0.4079433587770351, pvalue=0.6851292346167241),\n",
       " 'mfcc4_sma3_amean': Ttest_indResult(statistic=-0.23908350566205105, pvalue=0.8120587379736979),\n",
       " 'mfcc4_sma3_std Norm': Ttest_indResult(statistic=-0.8062812260281758, pvalue=0.4240575078115931),\n",
       " 'shimmerLocaldB amean': Ttest_indResult(statistic=0.03142791264550531, pvalue=0.9750585995808079),\n",
       " 'shimmerLocaldB std Norm': Ttest_indResult(statistic=-0.6546075890347172, pvalue=0.5158450521168059),\n",
       " 'slopeUV0-500 amean': Ttest_indResult(statistic=0.15490620630306448, pvalue=0.8775448140990105),\n",
       " 'slopeUV500-1500 amean': Ttest_indResult(statistic=0.8058813396514233, pvalue=0.42428582912674917),\n",
       " 'slopeV0-500 amean': Ttest_indResult(statistic=0.13047941086833553, pvalue=0.8967324491339318),\n",
       " 'slopeV0-500 std Norm': Ttest_indResult(statistic=0.8707320127446281, pvalue=0.38823454651120126),\n",
       " 'slopeV500-1500 amean': Ttest_indResult(statistic=0.2228100605114629, pvalue=0.8246287759188388),\n",
       " 'slopeV500-1500 std Norm': Ttest_indResult(statistic=-0.8962063123228488, pvalue=0.3746153422469525),\n",
       " 'spectralFluxUV amean': Ttest_indResult(statistic=0.18589223387270823, pvalue=0.853312631939035),\n",
       " 'spectralFluxV amean': Ttest_indResult(statistic=0.31769420619291855, pvalue=0.75209487359084),\n",
       " 'spectralFluxV std Norm': Ttest_indResult(statistic=-0.09476602319000225, pvalue=0.9248951828046796),\n",
       " 'spectralFlux_sma3_amean': Ttest_indResult(statistic=0.4009511786539015, pvalue=0.6902353585479928),\n",
       " 'spectralFlux_sma3_std Norm': Ttest_indResult(statistic=-0.2839875536083113, pvalue=0.7776413762938935)}"
      ]
     },
     "execution_count": 33,
     "metadata": {},
     "output_type": "execute_result"
    }
   ],
   "source": [
    "# easier naming for downstream analysis\n",
    "names = [s.replace('_sma3nz_', ' ') for s in names]\n",
    "names = [s.replace('stddev', 'std ') for s in names]\n",
    "\n",
    "\n",
    "# generate t stat results\n",
    "t_results = dict()\n",
    "p_vals = list()\n",
    "t_vals = list()\n",
    "for i in range(0,88):\n",
    "    a = off_data.iloc[:,i]\n",
    "    b = on_data.iloc[:,i]\n",
    "    f = stats.ttest_ind(a,b,equal_var=True)\n",
    "    p_vals.append(f.pvalue)\n",
    "    t_vals.append(f.statistic)\n",
    "    t_results[names[i+2]] = f\n",
    "t_results"
   ]
  },
  {
   "cell_type": "markdown",
   "metadata": {},
   "source": [
    "Two features were identified as showing a statistically significant relationship between patient data in the DBS off and on state. These features merit further exploration.  One particularly noteworthy finding is that the best features are associated with the mean rising slope of the vocal features in the samples; I would think of this as a first derivative, a measure that does not really depend on the frequency (pitch) regime of the patient's voice. This is great because each patient had a incredibly different tonal quality: some voices were deep while others were high pitched.  The rising slope, however, seems to be more an indication that the voice is suddenly changing in pitch, and thus the measure can be more broadly used across a range of natural vocal frequency ranges.  Again, to test this hypothesis, a more stringent analysis of the frequency dependent (non-derivative features) might be needed, as to assess whether, indeed, those features have high p values."
   ]
  },
  {
   "cell_type": "code",
   "execution_count": 17,
   "metadata": {},
   "outputs": [
    {
     "data": {
      "text/html": [
       "<div>\n",
       "<style scoped>\n",
       "    .dataframe tbody tr th:only-of-type {\n",
       "        vertical-align: middle;\n",
       "    }\n",
       "\n",
       "    .dataframe tbody tr th {\n",
       "        vertical-align: top;\n",
       "    }\n",
       "\n",
       "    .dataframe thead th {\n",
       "        text-align: right;\n",
       "    }\n",
       "</style>\n",
       "<table border=\"1\" class=\"dataframe\">\n",
       "  <thead>\n",
       "    <tr style=\"text-align: right;\">\n",
       "      <th></th>\n",
       "      <th>F0semitone27.5Hz_sma3nz_meanRisingSlope</th>\n",
       "      <th>F0semitone27.5Hz_sma3nz_stddevRisingSlope</th>\n",
       "    </tr>\n",
       "  </thead>\n",
       "  <tbody>\n",
       "    <tr>\n",
       "      <th>0</th>\n",
       "      <td>7.1</td>\n",
       "      <td>4.92</td>\n",
       "    </tr>\n",
       "    <tr>\n",
       "      <th>1</th>\n",
       "      <td>51.2</td>\n",
       "      <td>36.10</td>\n",
       "    </tr>\n",
       "    <tr>\n",
       "      <th>2</th>\n",
       "      <td>240.0</td>\n",
       "      <td>414.00</td>\n",
       "    </tr>\n",
       "    <tr>\n",
       "      <th>3</th>\n",
       "      <td>195.0</td>\n",
       "      <td>222.00</td>\n",
       "    </tr>\n",
       "    <tr>\n",
       "      <th>4</th>\n",
       "      <td>800.0</td>\n",
       "      <td>814.00</td>\n",
       "    </tr>\n",
       "  </tbody>\n",
       "</table>\n",
       "</div>"
      ],
      "text/plain": [
       "   F0semitone27.5Hz_sma3nz_meanRisingSlope  \\\n",
       "0                                      7.1   \n",
       "1                                     51.2   \n",
       "2                                    240.0   \n",
       "3                                    195.0   \n",
       "4                                    800.0   \n",
       "\n",
       "   F0semitone27.5Hz_sma3nz_stddevRisingSlope  \n",
       "0                                       4.92  \n",
       "1                                      36.10  \n",
       "2                                     414.00  \n",
       "3                                     222.00  \n",
       "4                                     814.00  "
      ]
     },
     "execution_count": 17,
     "metadata": {},
     "output_type": "execute_result"
    }
   ],
   "source": [
    "df10 = data.iloc[:,11] # t = 2.40, p = .04\n",
    "df03 = data.iloc[:,4]  # t = 2.08 p = .02\n",
    "\n",
    "sig_features = pd.concat([df03,  df10], axis = 1, sort=False)\n",
    "sig_features.head()"
   ]
  },
  {
   "cell_type": "markdown",
   "metadata": {},
   "source": [
    "# Plotting only 3, 10\n",
    "\n",
    "We combine important features and merge on and off columns into one dataframe to ease seaborn histogram plotting. Data is shown as a histogram with associated p values."
   ]
  },
  {
   "cell_type": "code",
   "execution_count": 18,
   "metadata": {},
   "outputs": [
    {
     "data": {
      "image/png": "[encoded data removed]",
      "text/plain": [
       "<Figure size 720x432 with 2 Axes>"
      ]
     },
     "metadata": {
      "needs_background": "light"
     },
     "output_type": "display_data"
    }
   ],
   "source": [
    "fig, axes = plt.subplots(figsize=(10,6)) # plot, enlargen\n",
    "\n",
    "k = 1\n",
    "for i in [4, 11]:\n",
    "    \n",
    "    df = data.iloc[:,i]  # separate on off data\n",
    "    off = df[::2]\n",
    "    on = df[1::2]\n",
    "\n",
    "    # reset index for merge with non NaN values:\n",
    "    off.reset_index(drop=True, inplace=True)\n",
    "    on.reset_index(drop=True, inplace=True)\n",
    "\n",
    "    full = pd.concat([off, on], axis=1)   # concatenate to one 24x2 df\n",
    "    full.columns.values[[0, 1]] = ['DBS off', 'DBS on']  # rename dataframe columns, for plotting\n",
    "    \n",
    "    # Plot 1x2\n",
    "    plt.subplot(1, 2, k)\n",
    "    df_title = names[i]\n",
    "    my_pal = {\"DBS off\": \"tomato\", \"DBS on\": \"palegreen\"}\n",
    "    sns.boxplot(data=full, order=[\"DBS off\", \"DBS on\"], palette=my_pal).set_title(df_title)\n",
    "    \n",
    "    # Print Legend\n",
    "    p_legend = 'p = ' + str('%.3f'%p_vals[i-2]) \n",
    "    t_legend = 't-stat = ' + str('%.3f'%t_vals[i-2])\n",
    "    k += 1\n",
    "    plt.legend(loc='upper left', labels=[t_legend, p_legend])\n",
    "    \n",
    "fig.tight_layout(h_pad=1)\n",
    "plt.show()"
   ]
  },
  {
   "cell_type": "markdown",
   "metadata": {},
   "source": [
    "To put the above graphs into some better context, we show results derived from the first 12 features extracted by the Gemaps library. T stat and p values associated with each are shown in the top left."
   ]
  },
  {
   "cell_type": "code",
   "execution_count": 19,
   "metadata": {},
   "outputs": [
    {
     "data": {
      "image/png": "[encoded data removed]",
      "text/plain": [
       "<Figure size 864x1440 with 12 Axes>"
      ]
     },
     "metadata": {
      "needs_background": "light"
     },
     "output_type": "display_data"
    }
   ],
   "source": [
    "fig, axes = plt.subplots(figsize=(12,20)) # plot, enlargen\n",
    "\n",
    "for i in range(2,14):\n",
    "    \n",
    "    df = data.iloc[:,i]  # separate on off data\n",
    "    off = df[::2]\n",
    "    on = df[1::2]\n",
    "    \n",
    "    # reset index for merge with non NaN values:\n",
    "    off.reset_index(drop=True, inplace=True)\n",
    "    on.reset_index(drop=True, inplace=True)\n",
    "\n",
    "    full = pd.concat([off, on], axis=1)   # concatenate to one 24x2 df\n",
    "    full.columns.values[[0, 1]] = ['DBS off', 'DBS on']  # rename dataframe columns, for plotting\n",
    "    \n",
    "    plt.subplot(4, 3, i-1)\n",
    "    df_title = names[i]\n",
    "    my_pal = {\"DBS off\": \"tomato\", \"DBS on\": \"palegreen\"}\n",
    "    sns.boxplot(data=full, order=[\"DBS off\", \"DBS on\"], palette=my_pal).set_title(df_title)\n",
    " \n",
    "    \n",
    "    p_legend = 'p = ' + str('%.3f'%p_vals[i-2]) \n",
    "    t_legend = 't-stat = ' + str('%.3f'%t_vals[i-2])\n",
    "    \n",
    "    plt.legend(loc='upper left', labels=[t_legend, p_legend])\n",
    "fig.tight_layout(h_pad=1)\n",
    "plt.show()"
   ]
  },
  {
   "cell_type": "markdown",
   "metadata": {},
   "source": [
    "# Wilcoxon Comparison Test\n",
    "\n",
    "The Wilcoxon is the non-parametric equivalent to the t-test performed above. It does not assume some normal distribution and thus we felt that its application would be beneficial here because of the small sample size and high frequency regime variability of the individuals who were recorded.  The Wilconxon returns p values that are slightly more promising than the t-test above and are consistent with the results yielded above as well. Should use with caution, because we don't really know if a higher sample size would actually allow some more of the parametric t-test results in for the features to converge anyway."
   ]
  },
  {
   "cell_type": "code",
   "execution_count": 24,
   "metadata": {},
   "outputs": [
    {
     "data": {
      "text/plain": [
       "{'F0semitone27.5Hz amean': WilcoxonResult(statistic=95.0, pvalue=0.11606452299293717),\n",
       " 'F0semitone27.5Hz meanFallingSlope': WilcoxonResult(statistic=116.0, pvalue=0.3313349065031326),\n",
       " 'F0semitone27.5Hz meanRisingSlope': WilcoxonResult(statistic=33.0, pvalue=0.002401067283616069),\n",
       " 'F0semitone27.5Hz pctlrange0-2': WilcoxonResult(statistic=132.0, pvalue=0.6070522480710051),\n",
       " 'F0semitone27.5Hz percentile20.0': WilcoxonResult(statistic=90.0, pvalue=0.14419666007323179),\n",
       " 'F0semitone27.5Hz percentile50.0': WilcoxonResult(statistic=89.0, pvalue=0.08131196278606516),\n",
       " 'F0semitone27.5Hz percentile80.0': WilcoxonResult(statistic=101.0, pvalue=0.26038423875642036),\n",
       " 'F0semitone27.5Hz std FallingSlope': WilcoxonResult(statistic=88.0, pvalue=0.0764744430757926),\n",
       " 'F0semitone27.5Hz std Norm': WilcoxonResult(statistic=133.0, pvalue=0.6271697535393987),\n",
       " 'F0semitone27.5Hz std RisingSlope': WilcoxonResult(statistic=68.0, pvalue=0.019136708854110035),\n",
       " 'F1amplitudeLogRelF0 amean': WilcoxonResult(statistic=109.0, pvalue=0.2413304911354801),\n",
       " 'F1amplitudeLogRelF0 std Norm': WilcoxonResult(statistic=132.0, pvalue=0.6070522480710051),\n",
       " 'F1bandwidth amean': WilcoxonResult(statistic=87.5, pvalue=0.33015456213418015),\n",
       " 'F1bandwidth std Norm': WilcoxonResult(statistic=120.0, pvalue=0.3913176012015247),\n",
       " 'F1frequency amean': WilcoxonResult(statistic=136.5, pvalue=0.6995332146868357),\n",
       " 'F1frequency std Norm': WilcoxonResult(statistic=68.5, pvalue=0.03447680044796448),\n",
       " 'F2amplitudeLogRelF0 amean': WilcoxonResult(statistic=107.0, pvalue=0.21923253328133308),\n",
       " 'F2amplitudeLogRelF0 std Norm': WilcoxonResult(statistic=74.5, pvalue=0.03098596284241905),\n",
       " 'F2bandwidth amean': WilcoxonResult(statistic=73.0, pvalue=0.027790969154278547),\n",
       " 'F2bandwidth std Norm': WilcoxonResult(statistic=122.5, pvalue=0.6373129673484332),\n",
       " 'F2frequency amean': WilcoxonResult(statistic=130.0, pvalue=0.807473846593284),\n",
       " 'F2frequency std Norm': WilcoxonResult(statistic=139.0, pvalue=0.7532796885869679),\n",
       " 'F3amplitudeLogRelF0 amean': WilcoxonResult(statistic=110.0, pvalue=0.25307369454124296),\n",
       " 'F3amplitudeLogRelF0 std Norm': WilcoxonResult(statistic=113.0, pvalue=0.29044639432372954),\n",
       " 'F3bandwidth amean': WilcoxonResult(statistic=109.0, pvalue=0.24137852624781364),\n",
       " 'F3bandwidth std Norm': WilcoxonResult(statistic=129.0, pvalue=0.5484858326197667),\n",
       " 'F3frequency amean': WilcoxonResult(statistic=103.0, pvalue=0.2862543379381449),\n",
       " 'F3frequency std Norm': WilcoxonResult(statistic=134.5, pvalue=0.6578200254013433),\n",
       " 'HNRdBACF amean': WilcoxonResult(statistic=139.0, pvalue=0.7533040472859123),\n",
       " 'HNRdBACF std Norm': WilcoxonResult(statistic=136.0, pvalue=0.6891565167793516),\n",
       " 'MeanUnvoicedSegmentLength': WilcoxonResult(statistic=58.0, pvalue=0.008574434611105325),\n",
       " 'MeanVoicedSegmentLengthSec': WilcoxonResult(statistic=137.0, pvalue=0.7103183482536846),\n",
       " 'StddevUnvoicedSegmentLength': WilcoxonResult(statistic=126.5, pvalue=0.501925730466406),\n",
       " 'StddevVoicedSegmentLengthSec': WilcoxonResult(statistic=126.5, pvalue=0.7264946632275238),\n",
       " 'VoicedSegmentsPerSec': WilcoxonResult(statistic=105.5, pvalue=0.203553157875361),\n",
       " 'alphaRatioUV amean': WilcoxonResult(statistic=87.0, pvalue=0.07184613726519312),\n",
       " 'alphaRatioV amean': WilcoxonResult(statistic=117.0, pvalue=0.3457539786772782),\n",
       " 'alphaRatioV std Norm': WilcoxonResult(statistic=116.0, pvalue=0.3313349065031326),\n",
       " 'equivalentSoundLevel_dBp': WilcoxonResult(statistic=148.5, pvalue=0.9658136692066572),\n",
       " 'hammarbergIndexUV amean': WilcoxonResult(statistic=91.0, pvalue=0.09185084396186832),\n",
       " 'hammarbergIndexV amean': WilcoxonResult(statistic=110.5, pvalue=0.2590543662567645),\n",
       " 'hammarbergIndexV std Norm': WilcoxonResult(statistic=82.5, pvalue=0.053771863634668196),\n",
       " 'jitterLocal amean': WilcoxonResult(statistic=149.5, pvalue=0.9886008736621535),\n",
       " 'jitterLocal std Norm': WilcoxonResult(statistic=125.0, pvalue=0.4750279923450821),\n",
       " 'logRelF0-H1-A3 amean': WilcoxonResult(statistic=133.5, pvalue=0.637317542719823),\n",
       " 'logRelF0-H1-A3 std Norm': WilcoxonResult(statistic=108.0, pvalue=0.23013934044341644),\n",
       " 'logRelF0-H1-H2 amean': WilcoxonResult(statistic=124.0, pvalue=0.4575222717829155),\n",
       " 'logRelF0-H1-H2 std Norm': WilcoxonResult(statistic=135.0, pvalue=0.6682351417952492),\n",
       " 'loudnessPeaksPerSec': WilcoxonResult(statistic=34.0, pvalue=0.0015597111167252758),\n",
       " 'loudness_sma3_amean': WilcoxonResult(statistic=126.0, pvalue=0.4928932964396343),\n",
       " 'loudness_sma3_meanFallingSlope': WilcoxonResult(statistic=98.0, pvalue=0.137334651359524),\n",
       " 'loudness_sma3_meanRisingSlope': WilcoxonResult(statistic=127.0, pvalue=0.5110890641174397),\n",
       " 'loudness_sma3_pctlrange0-2': WilcoxonResult(statistic=138.0, pvalue=0.7317059346728588),\n",
       " 'loudness_sma3_percentile20.0': WilcoxonResult(statistic=108.0, pvalue=0.23013934044341644),\n",
       " 'loudness_sma3_percentile50.0': WilcoxonResult(statistic=96.5, pvalue=0.12635137684659126),\n",
       " 'loudness_sma3_percentile80.0': WilcoxonResult(statistic=131.0, pvalue=0.5872281657620673),\n",
       " 'loudness_sma3_std FallingSlope': WilcoxonResult(statistic=97.5, pvalue=0.13359457803666355),\n",
       " 'loudness_sma3_std Norm': WilcoxonResult(statistic=58.0, pvalue=0.0085710539162695),\n",
       " 'loudness_sma3_std RisingSlope': WilcoxonResult(statistic=144.0, pvalue=0.863879913234324),\n",
       " 'mfcc1V amean': WilcoxonResult(statistic=112.0, pvalue=0.27758090223612086),\n",
       " 'mfcc1V std Norm': WilcoxonResult(statistic=99.0, pvalue=0.14507695028788484),\n",
       " 'mfcc1_sma3_amean': WilcoxonResult(statistic=111.0, pvalue=0.265156633625956),\n",
       " 'mfcc1_sma3_std Norm': WilcoxonResult(statistic=90.0, pvalue=0.14431267887665597),\n",
       " 'mfcc2V amean': WilcoxonResult(statistic=148.0, pvalue=0.954431397113681),\n",
       " 'mfcc2V std Norm': WilcoxonResult(statistic=130.0, pvalue=0.567689406952619),\n",
       " 'mfcc2_sma3_amean': WilcoxonResult(statistic=127.0, pvalue=0.5110890641174397),\n",
       " 'mfcc2_sma3_std Norm': WilcoxonResult(statistic=144.0, pvalue=0.8638867905449266),\n",
       " 'mfcc3V amean': WilcoxonResult(statistic=149.0, pvalue=0.9772063994750985),\n",
       " 'mfcc3V std Norm': WilcoxonResult(statistic=147.0, pvalue=0.9316935455667716),\n",
       " 'mfcc3_sma3_amean': WilcoxonResult(statistic=144.5, pvalue=0.875119623034882),\n",
       " 'mfcc3_sma3_std Norm': WilcoxonResult(statistic=123.0, pvalue=0.44045294529422474),\n",
       " 'mfcc4V amean': WilcoxonResult(statistic=113.0, pvalue=0.29044639432372954),\n",
       " 'mfcc4V std Norm': WilcoxonResult(statistic=150.0, pvalue=1.0),\n",
       " 'mfcc4_sma3_amean': WilcoxonResult(statistic=107.0, pvalue=0.34572281223496937),\n",
       " 'mfcc4_sma3_std Norm': WilcoxonResult(statistic=125.0, pvalue=0.4750279923450821),\n",
       " 'shimmerLocaldB amean': WilcoxonResult(statistic=131.5, pvalue=0.5969904661551011),\n",
       " 'shimmerLocaldB std Norm': WilcoxonResult(statistic=94.0, pvalue=0.10958047367184835),\n",
       " 'slopeUV0-500 amean': WilcoxonResult(statistic=141.0, pvalue=0.797058366150146),\n",
       " 'slopeUV500-1500 amean': WilcoxonResult(statistic=81.0, pvalue=0.048674875673469),\n",
       " 'slopeV0-500 amean': WilcoxonResult(statistic=101.5, pvalue=0.26690855162149807),\n",
       " 'slopeV0-500 std Norm': WilcoxonResult(statistic=120.0, pvalue=0.39136593830755195),\n",
       " 'slopeV500-1500 amean': WilcoxonResult(statistic=130.0, pvalue=0.5677091661973526),\n",
       " 'slopeV500-1500 std Norm': WilcoxonResult(statistic=150.0, pvalue=1.0),\n",
       " 'spectralFluxUV amean': WilcoxonResult(statistic=100.0, pvalue=0.1531274510196695),\n",
       " 'spectralFluxV amean': WilcoxonResult(statistic=148.0, pvalue=0.954431397113681),\n",
       " 'spectralFluxV std Norm': WilcoxonResult(statistic=116.0, pvalue=0.3312855602326904),\n",
       " 'spectralFlux_sma3_amean': WilcoxonResult(statistic=127.5, pvalue=0.5202955148188664),\n",
       " 'spectralFlux_sma3_std Norm': WilcoxonResult(statistic=99.0, pvalue=0.5663053702569848)}"
      ]
     },
     "execution_count": 24,
     "metadata": {},
     "output_type": "execute_result"
    }
   ],
   "source": [
    "# defn dict to pair name with each stat and pval result\n",
    "wilcoxon_results = dict()\n",
    "p_vals = list()\n",
    "w_vals = list()\n",
    "for i in range(0,88):\n",
    "    a = off_data.iloc[:,i]\n",
    "    b = on_data.iloc[:,i]\n",
    "    f = stats.wilcoxon(a,b)  # comparison\n",
    "    p_vals.append(f.pvalue)  \n",
    "    w_vals.append(f.statistic)\n",
    "    wilcoxon_results[names[i+2]] = f\n",
    "wilcoxon_results"
   ]
  }
 ],
 "metadata": {
  "kernelspec": {
   "display_name": "Python 3",
   "language": "python",
   "name": "python3"
  },
  "language_info": {
   "codemirror_mode": {
    "name": "ipython",
    "version": 3
   },
   "file_extension": ".py",
   "mimetype": "text/x-python",
   "name": "python",
   "nbconvert_exporter": "python",
   "pygments_lexer": "ipython3",
   "version": "3.6.5"
  }
 },
 "nbformat": 4,
 "nbformat_minor": 2
}
